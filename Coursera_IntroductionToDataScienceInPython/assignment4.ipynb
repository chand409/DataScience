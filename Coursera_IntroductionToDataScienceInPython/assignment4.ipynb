{
 "cells": [
  {
   "cell_type": "markdown",
   "metadata": {
    "deletable": false,
    "editable": false,
    "nbgrader": {
     "checksum": "48770f8b5f5d3062d3badd51fcafc401",
     "grade": false,
     "grade_id": "cell-a6c4f74309fc2379",
     "locked": true,
     "schema_version": 1,
     "solution": false
    }
   },
   "source": [
    "# Assignment 4\n",
    "## Description\n",
    "In this assignment you must read in a file of metropolitan regions and associated sports teams from [assets/wikipedia_data.html](assets/wikipedia_data.html) and answer some questions about each metropolitan region. Each of these regions may have one or more teams from the \"Big 4\": NFL (football, in [assets/nfl.csv](assets/nfl.csv)), MLB (baseball, in [assets/mlb.csv](assets/mlb.csv)), NBA (basketball, in [assets/nba.csv](assets/nba.csv) or NHL (hockey, in [assets/nhl.csv](assets/nhl.csv)). Please keep in mind that all questions are from the perspective of the metropolitan region, and that this file is the \"source of authority\" for the location of a given sports team. Thus teams which are commonly known by a different area (e.g. \"Oakland Raiders\") need to be mapped into the metropolitan region given (e.g. San Francisco Bay Area). This will require some human data understanding outside of the data you've been given (e.g. you will have to hand-code some names, and might need to google to find out where teams are)!\n",
    "\n",
    "For each sport I would like you to answer the question: **what is the win/loss ratio's correlation with the population of the city it is in?** Win/Loss ratio refers to the number of wins over the number of wins plus the number of losses. Remember that to calculate the correlation with [`pearsonr`](https://docs.scipy.org/doc/scipy/reference/generated/scipy.stats.pearsonr.html), so you are going to send in two ordered lists of values, the populations from the wikipedia_data.html file and the win/loss ratio for a given sport in the same order. Average the win/loss ratios for those cities which have multiple teams of a single sport. Each sport is worth an equal amount in this assignment (20%\\*4=80%) of the grade for this assignment. You should only use data **from year 2018** for your analysis -- this is important!\n",
    "\n",
    "## Notes\n",
    "\n",
    "1. Do not include data about the MLS or CFL in any of the work you are doing, we're only interested in the Big 4 in this assignment.\n",
    "2. I highly suggest that you first tackle the four correlation questions in order, as they are all similar and worth the majority of grades for this assignment. This is by design!\n",
    "3. It's fair game to talk with peers about high level strategy as well as the relationship between metropolitan areas and sports teams. However, do not post code solving aspects of the assignment (including such as dictionaries mapping areas to teams, or regexes which will clean up names).\n",
    "4. There may be more teams than the assert statements test, remember to collapse multiple teams in one city into a single value!"
   ]
  },
  {
   "cell_type": "code",
   "execution_count": null,
   "metadata": {},
   "outputs": [],
   "source": [
    "import pandas as pd\n",
    "import numpy as np\n",
    "import scipy.stats as stats\n",
    "import re"
   ]
  },
  {
   "cell_type": "code",
   "execution_count": null,
   "metadata": {},
   "outputs": [],
   "source": [
    "#create a master cities dict \n",
    "CitiesDict = {'New York' : 'New York City', \n",
    "             'New Jersey' : 'New York City', \n",
    "             'Brooklyn' : 'New York City',\n",
    "             'Anaheim' : 'Los Angeles',\n",
    "             'Los Angeles' : 'Los Angeles', \n",
    "             'San Francisco' : 'San Francisco Bay Area',\n",
    "             'San Jose' : 'San Francisco Bay Area', \n",
    "             'Golden' : 'San Francisco Bay Area', \n",
    "             'Oakland' : 'San Francisco Bay Area', \n",
    "             'Sacramento' : 'Sacramento',\n",
    "             'San Diego' : 'San Diego',\n",
    "             'Dallas' : 'Dallas–Fort Worth', \n",
    "             'Texas Rangers' : 'Dallas–Fort Worth',\n",
    "             'Washington' : 'Washington, D.C.', \n",
    "             'Minnesota' : 'Minneapolis–Saint Paul', \n",
    "             'Colorado' : 'Denver', \n",
    "             'Denver' : 'Denver',\n",
    "             'Florida' : 'Miami–Fort Lauderdale', \n",
    "             'Miami Heat' : 'Miami–Fort Lauderdale',\n",
    "             'Miami Marlins' : 'Miami–Fort Lauderdale',\n",
    "             'Miami Dolphins' : 'Miami–Fort Lauderdale',\n",
    "             'Arizona' : 'Phoenix', \n",
    "             'Phoenix' : 'Phoenix',\n",
    "             'Tampa Bay' : 'Tampa Bay Area', \n",
    "             'Carolina' : 'Raleigh',\n",
    "             'Vegas Golden' : 'Las Vegas', \n",
    "             'Boston' : 'Boston', \n",
    "             'New England' : 'Boston',\n",
    "             'Toronto' : 'Toronto', \n",
    "             'Detroit' : 'Detroit', \n",
    "             'Montreal' : 'Montreal', \n",
    "             'Ottawa' : 'Ottawa', \n",
    "             'Buffalo' : 'Buffalo', \n",
    "             'Pittsburgh' : 'Pittsburgh', \n",
    "             'Philadelphia' : 'Philadelphia', \n",
    "             'Columbus' : 'Columbus', \n",
    "             'Nashville' : 'Nashville', \n",
    "             'Tennessee' : 'Nashville',\n",
    "             'Winnipeg' : 'Winnipeg', \n",
    "             'St. Louis' : 'St. Louis', \n",
    "             'Chicago' : 'Chicago', \n",
    "             'Calgary' : 'Calgary', \n",
    "             'Edmonton' : 'Edmonton', \n",
    "             'Vancouver' : 'Vancouver', \n",
    "             'Cleveland' : 'Cleveland', \n",
    "             'Indiana' : 'Indianapolis', \n",
    "             'Indianapolis' : 'Indianapolis', \n",
    "             'Milwaukee' : 'Milwaukee', \n",
    "             'Charlotte' : 'Charlotte', \n",
    "             'Orlando' : 'Orlando', \n",
    "             'Atlanta' : 'Atlanta', \n",
    "             'Houston' : 'Houston', \n",
    "             'Portland' : 'Portland', \n",
    "             'Oklahoma' : 'Oklahoma City', \n",
    "             'Utah Jazz' : 'Salt Lake City', \n",
    "             'New Orleans' : 'New Orleans', \n",
    "             'San Antonio' : 'San Antonio', \n",
    "             'Memphis' : 'Memphis', \n",
    "             'Baltimore' : 'Baltimore', \n",
    "             'Kansas' : 'Kansas City', \n",
    "             'Seattle' : 'Seattle', \n",
    "             'Cincinnati' : 'Cincinnati', \n",
    "             'Green Bay' : 'Green Bay', \n",
    "             'Jacksonville' : 'Jacksonville'}"
   ]
  },
  {
   "cell_type": "markdown",
   "metadata": {
    "deletable": false,
    "editable": false,
    "nbgrader": {
     "checksum": "369ff9ecf0ee04640574205cbc697f94",
     "grade": false,
     "grade_id": "cell-712b2b5da63d4505",
     "locked": true,
     "schema_version": 1,
     "solution": false
    }
   },
   "source": [
    "## Question 1\n",
    "For this question, calculate the win/loss ratio's correlation with the population of the city it is in for the **NHL** using **2018** data."
   ]
  },
  {
   "cell_type": "code",
   "execution_count": null,
   "metadata": {},
   "outputs": [],
   "source": [
    "def get_nhl_df():\n",
    "    nhl_df=pd.read_csv(\"assets/nhl.csv\")\n",
    "    cities=pd.read_html(\"assets/wikipedia_data.html\")[1]\n",
    "    cities=cities.iloc[:-1,[0,3,5,6,7,8]]\n",
    "    \n",
    "    #add win/loss ratio column to nhl_df\n",
    "    nhl_df.set_index('year', inplace=True)\n",
    "    nhl_df=nhl_df.loc[2018] #only keep 2018\n",
    "    nhl_df.reset_index(inplace=True)\n",
    "    nhl_df.drop(index=[0,9,18,26], axis=1, inplace=True)\n",
    "    nhl_df['team'] = nhl_df['team'].str.replace(r\"\\*\",\"\") #got rid of the stars \n",
    "    nhl_df['W'] = nhl_df['W'].astype(int) #turn to an integer\n",
    "    nhl_df['L'] = nhl_df['L'].astype(int)\n",
    "    nhl_df['W/L%'] = nhl_df['W']/(nhl_df['W'] + nhl_df['L'])\n",
    "    \n",
    "    #separate city from team \n",
    "    nhl_df['city']=nhl_df['team'].str.extract(r'^([\\w.]{1,5}(?:\\s\\w+)?\\w*)')\n",
    "    nhl_df.set_index('city', inplace=True)\n",
    "\n",
    "    #use dict for city fixing to align with cities df\n",
    "    nhl_df['Metropolitan area'] = pd.Series(CitiesDict)\n",
    "\n",
    "    #keep only necessary info\n",
    "    nhl_df = nhl_df[['year', 'team', 'W', 'L', 'W/L%', 'Metropolitan area']]\n",
    "    nhl_df.reset_index(inplace=True)\n",
    "    nhl_df.drop(columns=['city'], inplace=True)\n",
    "\n",
    "    #merge on the metro areas to assure things are in the same order\n",
    "    df1 = pd.merge(nhl_df, cities, how='inner', on='Metropolitan area')\n",
    "    df1.sort_values('Metropolitan area', ascending=True, inplace=True)\n",
    "    df1.reset_index(inplace=True)\n",
    "    df1.drop(columns=['index', 'NFL', 'MLB', 'NBA', 'NHL'],inplace=True)\n",
    "    \n",
    "    #merge together the same metro areas\n",
    "    df1['Population (2016 est.)[8]'] = df1['Population (2016 est.)[8]'].astype(float)\n",
    "    groupdf1=df1.groupby('Metropolitan area').agg({'Population (2016 est.)[8]':np.nanmean, 'W/L%' : np.nanmean})\n",
    "    \n",
    "    return groupdf1\n",
    "get_nhl_df()"
   ]
  },
  {
   "cell_type": "code",
   "execution_count": null,
   "metadata": {
    "deletable": false,
    "nbgrader": {
     "checksum": "1cac4803b02502929f5b1612d48db2b5",
     "grade": false,
     "grade_id": "cell-69b16e4386e58030",
     "locked": false,
     "schema_version": 1,
     "solution": true
    },
    "scrolled": true
   },
   "outputs": [],
   "source": [
    "def nhl_correlation(): \n",
    "    groupdf1 = get_nhl_df()\n",
    "    \n",
    "\n",
    "    population_by_region = groupdf1['Population (2016 est.)[8]'] # pass in metropolitan area population from cities\n",
    "    win_loss_by_region = groupdf1['W/L%'] # pass in win/loss ratio from nhl_df in the same order as cities[\"Metropolitan area\"]\n",
    "\n",
    "    assert len(population_by_region) == len(win_loss_by_region), \"Q1: Your lists must be the same length\"\n",
    "    assert len(population_by_region) == 28, \"Q1: There should be 28 teams being analysed for NHL\"\n",
    "    \n",
    "    return stats.pearsonr(population_by_region, win_loss_by_region)\n",
    "\n",
    "nhl_correlation()"
   ]
  },
  {
   "cell_type": "code",
   "execution_count": null,
   "metadata": {
    "deletable": false,
    "editable": false,
    "nbgrader": {
     "checksum": "52a581df513c71153e105b93764cda4b",
     "grade": true,
     "grade_id": "cell-ebe0b2dfe1067e63",
     "locked": true,
     "points": 20,
     "schema_version": 1,
     "solution": false
    }
   },
   "outputs": [],
   "source": []
  },
  {
   "cell_type": "markdown",
   "metadata": {
    "deletable": false,
    "editable": false,
    "nbgrader": {
     "checksum": "988912cae4968d81473f46d783e79c16",
     "grade": false,
     "grade_id": "cell-cb964e690298b71d",
     "locked": true,
     "schema_version": 1,
     "solution": false
    }
   },
   "source": [
    "## Question 2\n",
    "For this question, calculate the win/loss ratio's correlation with the population of the city it is in for the **NBA** using **2018** data."
   ]
  },
  {
   "cell_type": "code",
   "execution_count": null,
   "metadata": {},
   "outputs": [],
   "source": [
    "def get_nba_df():\n",
    "    nba_df=pd.read_csv(\"assets/nba.csv\")\n",
    "    cities=pd.read_html(\"assets/wikipedia_data.html\")[1]\n",
    "    cities=cities.iloc[:-1,[0,3,5,6,7,8]]\n",
    "    \n",
    "    #add win/loss ratio column to nba_df\n",
    "    nba_df.set_index('year', inplace=True)\n",
    "    nba_df=nba_df.loc[2018] #only keep 2018\n",
    "    nba_df.reset_index(inplace=True)\n",
    "    nba_df['team'] = nba_df['team'].str.replace(r\"\\*\\s\\(.*\\)\",\"\") #got rid of the stars and parentheses with numbers\n",
    "    nba_df['team'] = nba_df['team'].str.replace(r\"\\s\\(.*\\)\",\"\")\n",
    "    nba_df['W'] = nba_df['W'].astype(int) #turn to an integer\n",
    "    nba_df['L'] = nba_df['L'].astype(int)\n",
    "    nba_df['W/L%'] = nba_df['W']/(nba_df['W'] + nba_df['L'])\n",
    "    \n",
    "    #separate city from team \n",
    "    nba_df['city']=nba_df['team'].str.extract(r'^([\\w.]{1,5}(?:\\s\\w+)?\\w*)')\n",
    "    nba_df.set_index('city', inplace=True)\n",
    "\n",
    "    #use dict for city fixing to align with cities df\n",
    "    nba_df['Metropolitan area'] = pd.Series(CitiesDict)\n",
    "    \n",
    "    #keep only necessary info\n",
    "    nba_df = nba_df[['year', 'team', 'W', 'L', 'W/L%', 'Metropolitan area']]\n",
    "    nba_df.reset_index(inplace=True)\n",
    "    nba_df.drop(columns=['city'], inplace=True)\n",
    "\n",
    "    #merge on the metro areas to assure things are in the same order\n",
    "    df2 = pd.merge(nba_df, cities, how='inner', on='Metropolitan area')\n",
    "    df2.sort_values('Metropolitan area', ascending=True, inplace=True)\n",
    "    df2.reset_index(inplace=True)\n",
    "    df2.drop(columns=['index', 'NFL', 'MLB', 'NBA', 'NHL'],inplace=True)\n",
    "    \n",
    "    #merge together the same metro areas\n",
    "    df2['Population (2016 est.)[8]'] = df2['Population (2016 est.)[8]'].astype(float)\n",
    "    groupdf2=df2.groupby('Metropolitan area').agg({'Population (2016 est.)[8]':np.nanmean, 'W/L%' : np.nanmean})\n",
    "    \n",
    "    return groupdf2"
   ]
  },
  {
   "cell_type": "code",
   "execution_count": null,
   "metadata": {
    "deletable": false,
    "nbgrader": {
     "checksum": "9394222aafc8ccab0a228098ba0d6010",
     "grade": false,
     "grade_id": "cell-5a5f21279e3d3572",
     "locked": false,
     "schema_version": 1,
     "solution": true
    }
   },
   "outputs": [],
   "source": [
    "def nba_correlation():\n",
    "    groupdf2 = get_nba_df()\n",
    "    \n",
    "    population_by_region = groupdf2['Population (2016 est.)[8]'] # pass in metropolitan area population from cities\n",
    "    win_loss_by_region = groupdf2['W/L%'] # pass in win/loss ratio from nba_df in the same order as cities[\"Metropolitan area\"]\n",
    "\n",
    "    assert len(population_by_region) == len(win_loss_by_region), \"Q2: Your lists must be the same length\"\n",
    "    assert len(population_by_region) == 28, \"Q2: There should be 28 teams being analysed for NBA\"\n",
    "\n",
    "    return stats.pearsonr(population_by_region, win_loss_by_region)\n",
    "\n",
    "nba_correlation()"
   ]
  },
  {
   "cell_type": "code",
   "execution_count": null,
   "metadata": {
    "deletable": false,
    "editable": false,
    "nbgrader": {
     "checksum": "bbdeb8eb22f525a34c10dc8798324e42",
     "grade": true,
     "grade_id": "cell-e573b2b4a282b470",
     "locked": true,
     "points": 20,
     "schema_version": 1,
     "solution": false
    }
   },
   "outputs": [],
   "source": []
  },
  {
   "cell_type": "markdown",
   "metadata": {
    "deletable": false,
    "editable": false,
    "nbgrader": {
     "checksum": "1a1a5809f675ca033086422007cd73bd",
     "grade": false,
     "grade_id": "cell-96e15e4335df78f4",
     "locked": true,
     "schema_version": 1,
     "solution": false
    }
   },
   "source": [
    "## Question 3\n",
    "For this question, calculate the win/loss ratio's correlation with the population of the city it is in for the **MLB** using **2018** data."
   ]
  },
  {
   "cell_type": "code",
   "execution_count": null,
   "metadata": {},
   "outputs": [],
   "source": [
    "def get_mlb_df(): \n",
    "    mlb_df=pd.read_csv(\"assets/mlb.csv\")\n",
    "    cities=pd.read_html(\"assets/wikipedia_data.html\")[1]\n",
    "    cities=cities.iloc[:-1,[0,3,5,6,7,8]]\n",
    "\n",
    "    #add win/loss ratio column to mlb_df\n",
    "    mlb_df.set_index('year', inplace=True)\n",
    "    mlb_df=mlb_df.loc[2018] #only keep 2018\n",
    "    mlb_df.reset_index(inplace=True)\n",
    "    mlb_df['W'] = mlb_df['W'].astype(int) #turn to an integer\n",
    "    mlb_df['L'] = mlb_df['L'].astype(int)\n",
    "    mlb_df['W/L%'] = mlb_df['W']/(mlb_df['W'] + mlb_df['L'])\n",
    "    \n",
    "    #separate city from team \n",
    "    mlb_df['city']=mlb_df['team'].str.extract(r'^([\\w.]{1,5}(?:\\s\\w+)?\\w*)')\n",
    "    mlb_df.set_index('city', inplace=True)\n",
    "\n",
    "    #use dict for city fixing to align with cities df\n",
    "    mlb_df['Metropolitan area'] = pd.Series(CitiesDict)\n",
    "    \n",
    "    #keep only necessary info\n",
    "    mlb_df = mlb_df[['year', 'team', 'W', 'L', 'W/L%', 'Metropolitan area']]\n",
    "    mlb_df.reset_index(inplace=True)\n",
    "    mlb_df.drop(columns=['city'], inplace=True)\n",
    "\n",
    "    #merge on the metro areas to assure things are in the same order\n",
    "    df3 = pd.merge(mlb_df, cities, how='inner', on='Metropolitan area')\n",
    "    df3.sort_values('Metropolitan area', ascending=True, inplace=True)\n",
    "    df3.reset_index(inplace=True)\n",
    "    df3.drop(columns=['index', 'NFL', 'MLB', 'NBA', 'NHL'],inplace=True)\n",
    "    \n",
    "    #merge together the same metro areas\n",
    "    df3['Population (2016 est.)[8]'] = df3['Population (2016 est.)[8]'].astype(float)\n",
    "    groupdf3=df3.groupby('Metropolitan area').agg({'Population (2016 est.)[8]':np.nanmean, 'W/L%' : np.nanmean})\n",
    "    \n",
    "    return groupdf3"
   ]
  },
  {
   "cell_type": "code",
   "execution_count": null,
   "metadata": {
    "deletable": false,
    "nbgrader": {
     "checksum": "27e8c0da6c9fa0dffc10488314335b6c",
     "grade": false,
     "grade_id": "cell-33b00fc3f3467b0c",
     "locked": false,
     "schema_version": 1,
     "solution": true
    },
    "scrolled": true
   },
   "outputs": [],
   "source": [
    "def mlb_correlation(): \n",
    "    groupdf3 = get_mlb_df()\n",
    "    \n",
    "    population_by_region = groupdf3['Population (2016 est.)[8]'] # pass in metropolitan area population from cities\n",
    "    win_loss_by_region = groupdf3['W/L%'] # pass in win/loss ratio from mlb_df in the same order as cities[\"Metropolitan area\"]\n",
    "\n",
    "    assert len(population_by_region) == len(win_loss_by_region), \"Q3: Your lists must be the same length\"\n",
    "    assert len(population_by_region) == 26, \"Q3: There should be 26 teams being analysed for MLB\"\n",
    "\n",
    "    return stats.pearsonr(population_by_region, win_loss_by_region)\n",
    "\n",
    "mlb_correlation()"
   ]
  },
  {
   "cell_type": "code",
   "execution_count": null,
   "metadata": {
    "deletable": false,
    "editable": false,
    "nbgrader": {
     "checksum": "cda33b094ba19ccc37a481e0dd29e0bc",
     "grade": true,
     "grade_id": "cell-764d4476f425c5a2",
     "locked": true,
     "points": 20,
     "schema_version": 1,
     "solution": false
    }
   },
   "outputs": [],
   "source": []
  },
  {
   "cell_type": "markdown",
   "metadata": {
    "deletable": false,
    "editable": false,
    "nbgrader": {
     "checksum": "6977a6da9ed6d8b7a0b7e37bbeda709b",
     "grade": false,
     "grade_id": "cell-793df6c04dfb126e",
     "locked": true,
     "schema_version": 1,
     "solution": false
    }
   },
   "source": [
    "## Question 4\n",
    "For this question, calculate the win/loss ratio's correlation with the population of the city it is in for the **NFL** using **2018** data."
   ]
  },
  {
   "cell_type": "code",
   "execution_count": null,
   "metadata": {},
   "outputs": [],
   "source": [
    "def get_nfl_df(): \n",
    "    nfl_df=pd.read_csv(\"assets/nfl.csv\")\n",
    "    cities=pd.read_html(\"assets/wikipedia_data.html\")[1]\n",
    "    cities=cities.iloc[:-1,[0,3,5,6,7,8]]\n",
    "    \n",
    "    #add win/loss ratio column to nhl_df\n",
    "    nfl_df.set_index('year', inplace=True)\n",
    "    nfl_df=nfl_df.loc[2018] #only keep 2018\n",
    "    nfl_df.reset_index(inplace=True)\n",
    "    nfl_df.drop(index=[0,5,10,15,20,25,30,35], axis=1, inplace=True)\n",
    "    nfl_df['team'] = nfl_df['team'].str.replace(r\"\\*\",\"\") #got rid of the stars \n",
    "    nfl_df['team'] = nfl_df['team'].str.replace(r\"\\+\",\"\") #got rid of the pluses\n",
    "    nfl_df['W'] = nfl_df['W'].astype(int) #turn to an integer\n",
    "    nfl_df['L'] = nfl_df['L'].astype(int)\n",
    "    nfl_df['W/L%'] = nfl_df['W']/(nfl_df['W'] + nfl_df['L'])\n",
    "    \n",
    "    #separate city from team \n",
    "    nfl_df['city']=nfl_df['team'].str.extract(r'^([\\w.]{1,5}(?:\\s\\w+)?\\w*)')\n",
    "    nfl_df.set_index('city', inplace=True)\n",
    "\n",
    "    #use dict for city fixing to align with cities df\n",
    "    nfl_df['Metropolitan area'] = pd.Series(CitiesDict)\n",
    "    nfl_df.set_value('Carolina', 'Metropolitan area', 'Charlotte')\n",
    "\n",
    "    #keep only necessary info\n",
    "    nfl_df = nfl_df[['year', 'team', 'W', 'L', 'W/L%', 'Metropolitan area']]\n",
    "    nfl_df.reset_index(inplace=True)\n",
    "    nfl_df.drop(columns=['city'], inplace=True)\n",
    "\n",
    "    #merge on the metro areas to assure things are in the same order\n",
    "    df4 = pd.merge(nfl_df, cities, how='inner', on='Metropolitan area')\n",
    "    df4.sort_values('Metropolitan area', ascending=True, inplace=True)\n",
    "    df4.reset_index(inplace=True)\n",
    "    df4.drop(columns=['index', 'NFL', 'MLB', 'NBA', 'NHL'],inplace=True)\n",
    "    \n",
    "    #merge together the same metro areas\n",
    "    df4['Population (2016 est.)[8]'] = df4['Population (2016 est.)[8]'].astype(float)\n",
    "    groupdf4=df4.groupby('Metropolitan area').agg({'Population (2016 est.)[8]':np.nanmean, 'W/L%' : np.nanmean})\n",
    "    \n",
    "    return groupdf4   "
   ]
  },
  {
   "cell_type": "code",
   "execution_count": null,
   "metadata": {
    "deletable": false,
    "nbgrader": {
     "checksum": "c4914ad1e119278ec2bd567c52640b66",
     "grade": false,
     "grade_id": "cell-8ccebc209aeec8d9",
     "locked": false,
     "schema_version": 1,
     "solution": true
    }
   },
   "outputs": [],
   "source": [
    "def nfl_correlation(): \n",
    "    groupdf4 = get_nfl_df()\n",
    "    \n",
    "    population_by_region = groupdf4['Population (2016 est.)[8]'] # pass in metropolitan area population from cities\n",
    "    win_loss_by_region = groupdf4['W/L%'] # pass in win/loss ratio from nfl_df in the same order as cities[\"Metropolitan area\"]\n",
    "\n",
    "    assert len(population_by_region) == len(win_loss_by_region), \"Q4: Your lists must be the same length\"\n",
    "    assert len(population_by_region) == 29, \"Q4: There should be 29 teams being analysed for NFL\"\n",
    "\n",
    "    return stats.pearsonr(population_by_region, win_loss_by_region)\n",
    "\n",
    "nfl_correlation()"
   ]
  },
  {
   "cell_type": "code",
   "execution_count": null,
   "metadata": {
    "deletable": false,
    "editable": false,
    "nbgrader": {
     "checksum": "e9415d6399aa49e3a1a60813afdefa3b",
     "grade": true,
     "grade_id": "cell-de7b148b9554dbda",
     "locked": true,
     "points": 20,
     "schema_version": 1,
     "solution": false
    }
   },
   "outputs": [],
   "source": []
  },
  {
   "cell_type": "markdown",
   "metadata": {
    "deletable": false,
    "editable": false,
    "nbgrader": {
     "checksum": "b02d5cd3273f561e4ae939bb2a41740c",
     "grade": false,
     "grade_id": "cell-97b49d8639e908c4",
     "locked": true,
     "schema_version": 1,
     "solution": false
    }
   },
   "source": [
    "## Question 5\n",
    "In this question I would like you to explore the hypothesis that **given that an area has two sports teams in different sports, those teams will perform the same within their respective sports**. How I would like to see this explored is with a series of paired t-tests (so use [`ttest_rel`](https://docs.scipy.org/doc/scipy/reference/generated/scipy.stats.ttest_rel.html)) between all pairs of sports. Are there any sports where we can reject the null hypothesis? Again, average values where a sport has multiple teams in one region. Remember, you will only be including, for each sport, cities which have teams engaged in that sport, drop others as appropriate. This question is worth 20% of the grade for this assignment."
   ]
  },
  {
   "cell_type": "code",
   "execution_count": null,
   "metadata": {
    "deletable": false,
    "nbgrader": {
     "checksum": "92b8bedc9c49fca1ef724ab5ce526db5",
     "grade": false,
     "grade_id": "cell-92f25f44b8d1179f",
     "locked": false,
     "schema_version": 1,
     "solution": true
    }
   },
   "outputs": [],
   "source": [
    "#mlb_df=pd.read_csv(\"assets/mlb.csv\")\n",
    "#nhl_df=pd.read_csv(\"assets/nhl.csv\")\n",
    "#nba_df=pd.read_csv(\"assets/nba.csv\")\n",
    "#nfl_df=pd.read_csv(\"assets/nfl.csv\")\n",
    "#cities=pd.read_html(\"assets/wikipedia_data.html\")[1]\n",
    "#cities=cities.iloc[:-1,[0,3,5,6,7,8]]\n",
    "\n",
    "\n",
    "# Let's bring in our ttest_ind function\n",
    "from scipy.stats import ttest_ind\n",
    "\n",
    "def sports_team_performance():\n",
    "    mlb_df = get_mlb_df()\n",
    "    nhl_df = get_nhl_df()\n",
    "    nba_df = get_nba_df()\n",
    "    nfl_df = get_nfl_df()\n",
    "    \n",
    "    mlb_df.reset_index(inplace = True)\n",
    "    nhl_df.reset_index(inplace = True)\n",
    "    nba_df.reset_index(inplace = True)\n",
    "    nfl_df.reset_index(inplace = True)\n",
    "    \n",
    "    df1 = pd.merge(mlb_df, nhl_df, how='outer', on=['Metropolitan area', 'Population (2016 est.)[8]'])\n",
    "    df1.rename(columns = {'W/L%_x':'W/L% MLB', 'W/L%_y':'W/L% NHL'}, inplace = True)\n",
    "    df2 = pd.merge(nba_df, nfl_df, how='outer', on=['Metropolitan area', 'Population (2016 est.)[8]'])\n",
    "    df2.rename(columns = {'W/L%_x':'W/L% NBA', 'W/L%_y':'W/L% NFL'}, inplace = True)\n",
    "    df = pd.merge(df1,df2, how = 'outer', on=['Metropolitan area', 'Population (2016 est.)[8]'])\n",
    "    df.rename(columns={'Population (2016 est.)[8]' : 'Population'}, inplace=True)\n",
    "    \n",
    "    \n",
    "    #MLB and NHL\n",
    "    mlb_nhl = df.drop(columns=['W/L% NBA', 'W/L% NFL'])\n",
    "    mlb_nhl.dropna(inplace=True)\n",
    "    stat_mlb_nhl, pval_mlb_nhl = ttest_ind(mlb_nhl['W/L% MLB'], mlb_nhl['W/L% NHL'])\n",
    "    \n",
    "    #MLB and NBA\n",
    "    mlb_nba = df.drop(columns=['W/L% NHL', 'W/L% NFL'])\n",
    "    mlb_nba.dropna(inplace=True)\n",
    "    stat_mlb_nba, pval_mlb_nba = ttest_ind(mlb_nba['W/L% MLB'], mlb_nba['W/L% NBA'])\n",
    "    \n",
    "    #MLB and NFL\n",
    "    mlb_nfl = df.drop(columns=['W/L% NBA', 'W/L% NHL'])\n",
    "    mlb_nfl.dropna(inplace=True)\n",
    "    stat_mlb_nfl, pval_mlb_nfl = ttest_ind(mlb_nfl['W/L% MLB'], mlb_nfl['W/L% NFL'])\n",
    "    \n",
    "    #NHL and NBA\n",
    "    nhl_nba = df.drop(columns=['W/L% MLB', 'W/L% NFL'])\n",
    "    nhl_nba.dropna(inplace=True)\n",
    "    stat_nhl_nba, pval_nhl_nba = ttest_ind(nhl_nba['W/L% NHL'], nhl_nba['W/L% NBA'])\n",
    "    \n",
    "    #NHL and NFL\n",
    "    nhl_nfl = df.drop(columns=['W/L% MLB', 'W/L% NBA'])\n",
    "    nhl_nfl.dropna(inplace=True)\n",
    "    stat_nhl_nfl, pval_nhl_nfl = ttest_ind(nhl_nfl['W/L% NHL'], nhl_nfl['W/L% NFL'])\n",
    "    \n",
    "    #NBA and NFL\n",
    "    nba_nfl = df.drop(columns=['W/L% MLB', 'W/L% NHL'])\n",
    "    nba_nfl.dropna(inplace=True)\n",
    "    stat_nba_nfl, pval_nba_nfl = ttest_ind(nba_nfl['W/L% NBA'], nba_nfl['W/L% NFL'])\n",
    "    \n",
    "    # Note: p_values is a full dataframe, so df.loc[\"NFL\",\"NBA\"] should be the same as df.loc[\"NBA\",\"NFL\"] and\n",
    "    # df.loc[\"NFL\",\"NFL\"] should return np.nan\n",
    "    sports = ['NFL', 'NBA', 'NHL', 'MLB']\n",
    "    p_values = pd.DataFrame({k:np.nan for k in sports}, index=sports)\n",
    "    \n",
    "    #put necessary values into spots in p_values\n",
    "    p_values.at['NFL', 'NBA'] = pval_nba_nfl\n",
    "    p_values.at['NBA', 'NFL'] = pval_nba_nfl\n",
    "    \n",
    "    p_values.at['NFL', 'NHL'] = pval_nhl_nfl\n",
    "    p_values.at['NHL', 'NFL'] = pval_nhl_nfl\n",
    "    \n",
    "    p_values.at['NFL', 'MLB'] = pval_mlb_nfl\n",
    "    p_values.at['MLB', 'NFL'] = pval_mlb_nfl\n",
    "    \n",
    "    p_values.at['NBA', 'NHL'] = pval_nhl_nba\n",
    "    p_values.at['NHL', 'NBA'] = pval_nhl_nba\n",
    "    \n",
    "    p_values.at['NBA', 'MLB'] = pval_mlb_nba\n",
    "    p_values.at['MLB', 'NBA'] = pval_mlb_nba\n",
    "    \n",
    "    p_values.at['NHL', 'MLB'] = pval_mlb_nhl\n",
    "    p_values.at['MLB', 'NHL'] = pval_mlb_nhl\n",
    "    \n",
    "    \n",
    "    #assert abs(p_values.loc[\"NBA\", \"NHL\"] - 0.02) <= 1e-2, \"The NBA-NFL p-value should be around 0.02\"\n",
    "    #assert abs(p_values.loc[\"MLB\", \"NFL\"] - 0.80) <= 1e-2, \"The MLB-NFL p-value should be around 0.80\"\n",
    "    return p_values\n",
    "\n",
    "sports_team_performance()"
   ]
  },
  {
   "cell_type": "code",
   "execution_count": null,
   "metadata": {
    "deletable": false,
    "editable": false,
    "nbgrader": {
     "checksum": "2a596ab421a45cc01168d10e8fbb8f89",
     "grade": true,
     "grade_id": "cell-fb4b9cb5ff4570a6",
     "locked": true,
     "points": 20,
     "schema_version": 1,
     "solution": false
    }
   },
   "outputs": [],
   "source": []
  }
 ],
 "metadata": {
  "coursera": {
   "schema_names": [
    "mooc_adswpy_1_v2_assignment4"
   ]
  },
  "kernelspec": {
   "display_name": "Python 3 (ipykernel)",
   "language": "python",
   "name": "python3"
  },
  "language_info": {
   "codemirror_mode": {
    "name": "ipython",
    "version": 3
   },
   "file_extension": ".py",
   "mimetype": "text/x-python",
   "name": "python",
   "nbconvert_exporter": "python",
   "pygments_lexer": "ipython3",
   "version": "3.9.13"
  }
 },
 "nbformat": 4,
 "nbformat_minor": 1
}
